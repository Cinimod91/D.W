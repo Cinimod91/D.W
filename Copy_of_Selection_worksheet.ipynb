{
  "nbformat": 4,
  "nbformat_minor": 0,
  "metadata": {
    "colab": {
      "name": "Copy of Selection worksheet.ipynb",
      "provenance": [],
      "collapsed_sections": [],
      "include_colab_link": true
    },
    "kernelspec": {
      "name": "python3",
      "display_name": "Python 3"
    }
  },
  "cells": [
    {
      "cell_type": "markdown",
      "metadata": {
        "id": "view-in-github",
        "colab_type": "text"
      },
      "source": [
        "<a href=\"https://colab.research.google.com/github/Cinimod91/D.W/blob/main/Copy_of_Selection_worksheet.ipynb\" target=\"_parent\"><img src=\"https://colab.research.google.com/assets/colab-badge.svg\" alt=\"Open In Colab\"/></a>"
      ]
    },
    {
      "cell_type": "markdown",
      "metadata": {
        "id": "GhX3Slbcp0ZV"
      },
      "source": [
        "## Selection (if...elif...else)\n",
        "\n",
        "---\n"
      ]
    },
    {
      "cell_type": "markdown",
      "metadata": {
        "id": "8hOKtaP7p8Nj"
      },
      "source": [
        "A key part of problem solving is decision making.  Decisions are based on data and have a set of outcomes depending on that data.\n",
        "\n",
        "A program is a sequence of instructions to be followed by the computer, to solve a particular problem.    \n",
        "\n",
        "It is not always useful for programs to do the exact same thing every time, in exactly the same way.  \n",
        "\n",
        "Say we have a program that will tell someone if they are too young to drive a car. We don't want it to tell them this if they are over 17. So we use an if statement to say: if the user's age is less than 17, tell them they are too young to drive a car.\n",
        "\n",
        "Run the code in the cell below to see if it works for the years 2006 and 2000"
      ]
    },
    {
      "cell_type": "code",
      "metadata": {
        "id": "kVSTvk8ZtJkG",
        "colab": {
          "base_uri": "https://localhost:8080/"
        },
        "outputId": "5c30cd44-ecd8-4f0c-8303-a52a93a7c45d"
      },
      "source": [
        "from datetime import datetime\n",
        "\n",
        "# determine if user is old enough to drive\n",
        "def drive_age():\n",
        "    birth_year = int(input(\"What year were you born?\"))  \n",
        "    current_year = datetime.now().year  \n",
        "    age = current_year - birth_year  \n",
        "    if age < 17:\n",
        "        print(\"You are too young to drive a car\")\n",
        "\n",
        "drive_age()"
      ],
      "execution_count": null,
      "outputs": [
        {
          "name": "stdout",
          "output_type": "stream",
          "text": [
            "What year were you born?1991\n"
          ]
        }
      ]
    },
    {
      "cell_type": "markdown",
      "metadata": {
        "id": "ZRdkf0RTtjCE"
      },
      "source": [
        "---\n",
        "## Using else    \n",
        "\n",
        "So the program tells someone if they are too young to drive but if they are old enough it doesn't do anything. We need to give it an alternative action.  \n",
        "\n",
        "Run the code in the cell below to see if it works for the years 2006 and 2000  "
      ]
    },
    {
      "cell_type": "code",
      "metadata": {
        "id": "2kWB9YtbuB5G",
        "colab": {
          "base_uri": "https://localhost:8080/"
        },
        "outputId": "374b07da-d509-4fd4-e3f0-f10f19115375"
      },
      "source": [
        "from datetime import datetime   \n",
        "\n",
        "# determine if user is old enough to drive or not\n",
        "def drive_age():\n",
        "    birth_year = int(input(\"What year were you born?\"))  \n",
        "    current_year = datetime.now().year  \n",
        "    age = current_year - birth_year  \n",
        "    if age < 17:\n",
        "        print(\"You are too young to drive a car\")\n",
        "    else:\n",
        "        print(\"You are old enough to drive a car\")\n",
        "\n",
        "drive_age()"
      ],
      "execution_count": null,
      "outputs": [
        {
          "output_type": "stream",
          "name": "stdout",
          "text": [
            "What year were you born?1991\n",
            "You are old enough to drive a car\n"
          ]
        }
      ]
    },
    {
      "cell_type": "markdown",
      "metadata": {
        "id": "5_czxkMEuIBk"
      },
      "source": [
        "So an if statement is written like this:  \n",
        "\n",
        "```\n",
        "if A CONDITION IS TRUE :  \n",
        "  DO SOMETHING  \n",
        "else:  \n",
        "  DO SOMETHING ELSE\n",
        "```\n",
        "\n",
        "\n",
        "Important things to know:  \n",
        "\n",
        "A CONDITION can be *True* or *False* either because it is a boolean variable (storing the value True or False) or because it is using some form of comparison or logical operator:\n",
        "\n",
        "age < 17\n",
        "This is *True* if the value of **age** is less than 17 and *False* if the value of age is 17 or above\n",
        "\n",
        "name == \"Bill\"\n",
        "This is *True* if the value of the variable **name** is \"Bill\" and *False* if the value is any other name\n",
        "\n",
        "height >= 150\n",
        "This is *True* if the value of **height** is greater than, or equal to, 150 and *False* if the value is less than 150\n",
        "\n",
        "### What if there is more than one option?\n",
        "If you ask someone their age, then there may be a number of different things you can print depending on what it is:  \n",
        "\n",
        "Run the code in the cell below, try some different ages to get different results.    "
      ]
    },
    {
      "cell_type": "code",
      "metadata": {
        "id": "cKKbVayNvKU_"
      },
      "source": [
        "def age_to_drive():\n",
        "    age = int(input(\"Please enter your age\"))\n",
        "    if age >= 17:\n",
        "        print(\"You are old enough to drive\")\n",
        "    elif age >= 13:\n",
        "        print(\"You are too young to drive but you are old enough to have a social media account\")\n",
        "    else:\n",
        "        print(\"You are too young to drive and to have a social media account\")\n",
        "\n",
        "age_to_drive()"
      ],
      "execution_count": null,
      "outputs": []
    },
    {
      "cell_type": "markdown",
      "metadata": {
        "id": "t8-NQ7QevL3z"
      },
      "source": [
        "Here's another example, try this one out:    \n",
        "*  ask the user to enter their **name**.    \n",
        "*  if their `name` is Bill then print \"Where is Ben?\"  \n",
        "*  if their `name` is Ben print \"Where is Bill?\"  \n",
        "*  otherwise print \"Where are Bill and Ben?\"  "
      ]
    },
    {
      "cell_type": "code",
      "metadata": {
        "id": "lY9VVvQQvuM9"
      },
      "source": [
        "def bill_or_ben():\n",
        "    name = input(\"What is your name?\")\n",
        "    if name == \"Bill\":\n",
        "      print(\"Where is Ben?\")\n",
        "    elif name == \"Ben\":\n",
        "      print(\"Where is Bill?\")\n",
        "    else:\n",
        "      print(\"Where are Bill and Ben?\")\n",
        "\n",
        "bill_or_ben()"
      ],
      "execution_count": null,
      "outputs": []
    },
    {
      "cell_type": "markdown",
      "metadata": {
        "id": "-ouEfBiaqKc7"
      },
      "source": [
        "---\n",
        "### Exercise 1  - if and else\n",
        "\n",
        "Write a function called **find_greater()** which will:\n",
        "\n",
        "*  ask the user for 2 numbers (**num1** and **num2**)  \n",
        "*  use an if statement that compares the two numbers and prints the one that is the greater of the two.  "
      ]
    },
    {
      "cell_type": "code",
      "metadata": {
        "id": "BIhqeCOHpzOS",
        "colab": {
          "base_uri": "https://localhost:8080/"
        },
        "outputId": "6c9cf336-2472-4cdc-f883-0fc086d019aa"
      },
      "source": [
        "def find_greater():\n",
        "  num1 = float(input(\"Input Number\"))\n",
        "  num2 = float(input(\"Input Number\"))\n",
        "  if num1 > num2:\n",
        "    print(\"num1 is greater than num2\")\n",
        "\n",
        "find_greater()\n"
      ],
      "execution_count": null,
      "outputs": [
        {
          "output_type": "stream",
          "name": "stdout",
          "text": [
            "Input Number5\n",
            "Input Number3\n",
            "num1 is greater than num2\n"
          ]
        }
      ]
    },
    {
      "cell_type": "markdown",
      "metadata": {
        "id": "vkKL17eFy_R-"
      },
      "source": [
        "---\n",
        "### Exercise 2 - \n",
        "\n",
        "Write a function called **guess_number(random_number)** which will use the generated **random_number**, between 1 and 100, provided in the brackets (called a parameter):  \n",
        "\n",
        "*  ask the user to **guess** the `random_number`  \n",
        "*  if the `guess` is greater than the `random_number` print \"Too high\"  \n",
        "*  else if the `guess` is less than the `random_number` print \"Too low\"  \n"
      ]
    },
    {
      "cell_type": "code",
      "metadata": {
        "id": "hmKpcdRv0UOd",
        "colab": {
          "base_uri": "https://localhost:8080/"
        },
        "outputId": "5c36a13f-5dfb-4598-8a2f-03d6215b0ce7"
      },
      "source": [
        "def guess_number():\n",
        "  import random\n",
        "  num = random.randint(1,100)\n",
        "  Guess = float(input(\"Input Guess\"))\n",
        "  if Guess > num:\n",
        "    print(\"Guess is Too High\")\n",
        "  else:\n",
        "    print(\"Guess is Too Low\")\n",
        "        \n",
        "    \n",
        "guess_number()\n"
      ],
      "execution_count": null,
      "outputs": [
        {
          "output_type": "stream",
          "name": "stdout",
          "text": [
            "Input Guess22\n",
            "Guess is Too Low\n"
          ]
        }
      ]
    },
    {
      "cell_type": "markdown",
      "metadata": {
        "id": "70COtAzd0UcZ"
      },
      "source": [
        "---\n",
        "### Exercise 3 - AM or PM\n",
        "\n",
        "Write a function called **is_afternoon()** which will:\n",
        "\n",
        "*  ask the user to enter the **time** in 24 hour clock format (e.g. 1759)  \n",
        "*  use floor division (by 100) to calculate the **hour**  \n",
        "*  use modulus (100) to calculate the **minutes**  \n",
        "*  if the **hour** is 12 or greater, assign \"PM\" to a variable called **am_pm** AND subtract 12 from `hour` and store the result back in `hour`  \n",
        "*  else assign \"AM\" to the `am_pm` variable   \n",
        "*  assign the value str(`hour`) + \":\" + str(`minutes`) + `am_pm` to a new variable called **text_time**  \n",
        "*  print the message \"The time is\", `text_time`    \n",
        "\n",
        "Test input:  \n",
        "1759  \n",
        "\n",
        "Expected output:  \n",
        "The time is 5:59PM  \n",
        "\n",
        "Test input:  \n",
        "1132  \n",
        "\n",
        "Expected output:  \n",
        "The time is 11:32AM"
      ]
    },
    {
      "cell_type": "code",
      "metadata": {
        "id": "FCVRtwjd2ZnH",
        "colab": {
          "base_uri": "https://localhost:8080/"
        },
        "outputId": "c632186b-d758-4846-d740-e88f12d951e3"
      },
      "source": [
        "def is_afternoon():\n",
        "  Time = int(input(\"Enter Time in 24 hour format\"))\n",
        "  hour = (Time) // 100\n",
        "  mins = (Time) % 100\n",
        "  if hour >= 12:\n",
        "    am_pm = \"PM\"\n",
        "    hour = hour - 12\n",
        "  else:\n",
        "    am_pm = \"AM\"\n",
        "  str(hour)\n",
        "  str(mins)\n",
        "  print(\"The Time is\", hour, mins, am_pm)\n",
        "\n",
        "      \n",
        "      \n",
        "is_afternoon()"
      ],
      "execution_count": null,
      "outputs": [
        {
          "output_type": "stream",
          "name": "stdout",
          "text": [
            "Enter Time in 24 hour format1444\n",
            "The Time is 2 44 PM\n"
          ]
        }
      ]
    },
    {
      "cell_type": "markdown",
      "metadata": {
        "id": "pMnxknLW3XlM"
      },
      "source": [
        "---\n",
        "### Exercise 4 - Getting a number within limits\n",
        "\n",
        "Write a function called **validate()** which will:\n",
        "\n",
        "*  ask the user to enter a **number** between 1 and 100  \n",
        "*  if the `number` is less than 1 or more than 100, print the error message \"Number out of limits\"  \n",
        "*  else print \"Your number was\" followed by the `number`\n",
        "\n",
        "Test input:  \n",
        "50  \n",
        "\n",
        "Expected output:  \n",
        "Your number was 50  \n",
        "\n",
        "Test input:  \n",
        "150  \n",
        "\n",
        "Expected output:  \n",
        "Number out of limits"
      ]
    },
    {
      "cell_type": "code",
      "metadata": {
        "id": "cO7r4kYY3_aA",
        "colab": {
          "base_uri": "https://localhost:8080/"
        },
        "outputId": "8b4ed37b-6636-4f8c-cdd7-775d0656ca2d"
      },
      "source": [
        "def validate():\n",
        "  number = float(input(\"enter number between 1 and 100\"))\n",
        "  if number < 1:\n",
        "    print(\"number out of range\")\n",
        "  if number > 100:\n",
        "    print(\"number out of range\")\n",
        "  else:\n",
        "    print(\"Your number was\", number)\n",
        "\n",
        "\n",
        "validate()"
      ],
      "execution_count": null,
      "outputs": [
        {
          "output_type": "stream",
          "name": "stdout",
          "text": [
            "enter number between 1 and 10045\n",
            "Your number was 45.0\n"
          ]
        }
      ]
    },
    {
      "cell_type": "markdown",
      "metadata": {
        "id": "R_42ktqd6m-O"
      },
      "source": [
        "---\n",
        "### Exercise 5 - positive or negative\n",
        "\n",
        "Write a function called **report_pos_or_neg()** which will:  \n",
        "\n",
        "*  ask a user to input a **number**  \n",
        "*  if the `number` is greater than 0, print `number` \"is a positive number\"\n",
        "*  otherwise if it is less than 0 print `number` \"is a negative number  \n",
        "*  otherwise print `number` \"is neither positive or negative\"\n",
        "\n",
        "Test Inputs:  \n",
        "0  \n",
        "50  \n",
        "-50\n",
        "\n",
        "Expected outputs:\n",
        "0 is neither positive or negative  \n",
        "50 is a positive number  \n",
        "-50 is a negative number  "
      ]
    },
    {
      "cell_type": "code",
      "metadata": {
        "id": "g2V-Ft_S8W6u",
        "colab": {
          "base_uri": "https://localhost:8080/"
        },
        "outputId": "bdb67879-4514-413c-b813-7f5c9824c4ef"
      },
      "source": [
        "def report_pos_or_neg():\n",
        "  number = float(input(\"Input Number\"))\n",
        "  if number > 0:\n",
        "    print(number,\"is a positive number\")\n",
        "  else:\n",
        "    print(number, \"is a negative number\")\n",
        "report_pos_or_neg()\n",
        "\n"
      ],
      "execution_count": null,
      "outputs": [
        {
          "output_type": "stream",
          "name": "stdout",
          "text": [
            "Input Number-22\n",
            "-22.0 is a negative number\n"
          ]
        }
      ]
    }
  ]
}