{
  "nbformat": 4,
  "nbformat_minor": 0,
  "metadata": {
    "colab": {
      "name": "Copy of Data Types, variables and operators.ipynb",
      "provenance": [],
      "include_colab_link": true
    },
    "kernelspec": {
      "name": "python3",
      "display_name": "Python 3"
    },
    "language_info": {
      "name": "python"
    }
  },
  "cells": [
    {
      "cell_type": "markdown",
      "metadata": {
        "id": "view-in-github",
        "colab_type": "text"
      },
      "source": [
        "<a href=\"https://colab.research.google.com/github/Cinimod91/D.W/blob/main/Copy_of_Data_Types%2C_variables_and_operators.ipynb\" target=\"_parent\"><img src=\"https://colab.research.google.com/assets/colab-badge.svg\" alt=\"Open In Colab\"/></a>"
      ]
    },
    {
      "cell_type": "markdown",
      "source": [
        "# Data types and Variables\n",
        "---\n",
        "\n",
        "A variable is a placeholder for data.  It will have:\n",
        "*  a meaningful name that indicates what data is stored in it (you will often need to decide on the name\n",
        "*  a type of data it will hold (this will dictate what can be done with that data)  \n",
        "\n",
        "### Creating a new variable\n",
        "\n",
        "We do this using the assignment operator:\n",
        "\n",
        "` name = \"Susan\"`\n",
        "\n",
        "The variable **name** is a string variable because the data assigned to it when it was created was a string.\n",
        "\n",
        "`age = 21`\n",
        "\n",
        "The variable **age** is an integer variable (a whole number) because the data assigned to it when it was created was a whole number.\n",
        "\n",
        "` height = 1.67`\n",
        "\n",
        "The variable **height** is a float variable (a decimal number) because the data assigned to it when it was created was a decimal number.\n",
        "\n",
        "`clicked_on = True`\n",
        "\n",
        "The variable **clicked_on** is a boolean variable (True or False - the capitals are significant) because the data assigned to it when it was create was True, one of the two options.\n",
        "\n",
        "**Recap**: Variables can store data of different types.  \n",
        "*   **int** (whole numbers, e.g. 4, 523, 1984)  \n",
        "*   **float** (decimal numbers e.g. 4.3, )  \n",
        "*   **str** (strings of characters)  \n",
        "*   **bool** (True or False)  \n",
        "\n",
        "Variables can also store structured data (**lists, tuples, dictionaries,** etc)\n",
        "\n",
        "`scores = [34,56,27,84,65]`  The variable scores is holding a list of integers\n",
        "\n",
        "`column_headings = (\"Age\", \"Income\", \"Population\") The variable **column_headings** is holding a tuple of strings, a tuple can't be changed after it has been assigned, whereas a list can\n",
        "\n",
        "`person = {\"Name\":\"Susan\", \"Age\":21, \"Height\":1.67}`  The variable **person** is holding a dictionary, a set of data each with a label or key and a value.\n",
        "\n",
        "You can '**assign**' a value to a variable using the **=** sign.\n",
        "\n",
        "### Changing a variable's type\n",
        "Occasionally we need to change the type of a variable after it has been assigned.  This might be because when the variable was first assigned a value, it came from a process which produced it as a different type.\n",
        "\n",
        "For example, the input command to get input from a keyboard can only produce data as a string.  If the data needed was a number, then it can be cast as an integer like this:\n",
        "\n",
        "`age = int(input(\"Enter your age: \"))`"
      ],
      "metadata": {
        "id": "z4AJX53csYS7"
      }
    },
    {
      "cell_type": "markdown",
      "metadata": {
        "id": "bUfEgyAJBgxX"
      },
      "source": [
        "## Using variables of different types and functions\n",
        "----\n",
        "### Exercise 1\n",
        "The cell below contains a function. Functions are named sets of instructions that do one particular thing, often creating a new set of data but sometimes just setting something up.  \n",
        "\n",
        "A function starts with the keyword def (short for define or definition). All instructions below the definition are indented and this indicates that they are part of that function. A function runs when its name is used outside the function (here it is not indented). The indentation is important, note where the code is and isn't indented.  \n",
        "\n",
        "*  create a variable called **name** and assign it a value (any name)  \n",
        "*  print the message “Hello” name  \n",
        "*  change the value of `name` and run the code again to get a new message"
      ]
    },
    {
      "cell_type": "code",
      "metadata": {
        "id": "4oPwx_yTf-yt",
        "colab": {
          "base_uri": "https://localhost:8080/"
        },
        "outputId": "25a37996-0255-4db5-9d3c-08178cdb7f00"
      },
      "source": [
        "def print_welcome():\n",
        "   # create the variable called name below here (indented like this line) and add the instruction print(\"Hello\",name)\n",
        "   name = \"Dominic\"\n",
        "   print(\"Hello\", name)\n",
        "\n",
        "  \n",
        "  \n",
        "  \n",
        "print_welcome()"
      ],
      "execution_count": null,
      "outputs": [
        {
          "output_type": "stream",
          "name": "stdout",
          "text": [
            "Hello Dominic\n"
          ]
        }
      ]
    },
    {
      "cell_type": "markdown",
      "metadata": {
        "id": "apeD48hhB1Ns"
      },
      "source": [
        "----\n",
        "### Exercise 2\n",
        "*  create two variables **num1** and **num2** and assign them each a whole number  \n",
        "*  create a third variable **total** which will store the sum of num1 + num2  \n",
        "*  run the code.  \n",
        "\n",
        "Change the value of one of the numbers and run the code again to get new messages and a new total."
      ]
    },
    {
      "cell_type": "code",
      "metadata": {
        "id": "T6WtdKMiCGh-",
        "colab": {
          "base_uri": "https://localhost:8080/"
        },
        "outputId": "dcbef5d5-0ac8-4c86-f68d-9cd8c653cf54"
      },
      "source": [
        "def print_total():\n",
        "  # add your code below here\n",
        "  num1 = 5\n",
        "  num2 = 3\n",
        "  total = num1 + num2\n",
        "  print(total)\n",
        "\n",
        " \n",
        "#print(num1, \"+\", num2, \"=\", total)\n",
        "\n",
        "\n",
        "print_total()"
      ],
      "execution_count": null,
      "outputs": [
        {
          "output_type": "stream",
          "name": "stdout",
          "text": [
            "8\n"
          ]
        }
      ]
    },
    {
      "cell_type": "markdown",
      "metadata": {
        "id": "r8O47uBPW9Gy"
      },
      "source": [
        "---\n",
        "### Exercise 3 - converting float to int\n",
        "\n",
        "Write a function called **count_poundCoins()** which will:  \n",
        "\n",
        "*  ask the user to enter an amount in pounds and pence and assign this value to a float variable called **pounds_pence**  \n",
        "*  convert the float variable to int and assign this value to a variable called **pound_coins**  \n",
        "*  print the message Number of pound coins `pound_coins`  \n",
        "\n",
        "Test input:  \n",
        "3.48  \n",
        "\n",
        "Expected output:  \n",
        "Number of pound coins 3\n",
        "\n"
      ]
    },
    {
      "cell_type": "code",
      "metadata": {
        "id": "aTO1l1iNXUNt",
        "colab": {
          "base_uri": "https://localhost:8080/"
        },
        "outputId": "5e2b48fe-6842-4fc4-bd97-b4da3120ceae"
      },
      "source": [
        "def count_poundCoins():\n",
        "  pounds_pence = float(input(\"input the amount in pounds and pence\"))\n",
        "  poundCoins = int(pounds_pence)\n",
        "  print(poundCoins)\n",
        "\n",
        "count_poundCoins()\n"
      ],
      "execution_count": null,
      "outputs": [
        {
          "output_type": "stream",
          "name": "stdout",
          "text": [
            "input the amount in pounds and pence3.48\n",
            "3\n"
          ]
        }
      ]
    },
    {
      "cell_type": "markdown",
      "metadata": {
        "id": "Wy_L3E_-XUWa"
      },
      "source": [
        "---\n",
        "### Exercise 4 - converting int to string\n",
        "\n",
        "Write a function called **format_currency()** which will:\n",
        "\n",
        "*  ask the user to enter a number of pounds and assign this to an integer variable called **num_pounds**  \n",
        "*  convert numPounds to a string and assign it to a variable called **pounds**  \n",
        "*  create a String variable called **currency** which has a \"£\", pounds, \".00\" joined together\n",
        "*  print the resulting currency, including the £ sign  \n",
        "\n",
        "Test input:  \n",
        "4\n",
        "\n",
        "Expected output:  \n",
        "£4.00\n"
      ]
    },
    {
      "cell_type": "code",
      "source": [
        "def format_currency():\n",
        "  num_pounds = float(input(\"Input The Amount In Pounds\"))\n",
        "  Currency = \"£\", \"pounds\", \".00\"\n",
        "  print(num_pounds)\n",
        "  \n",
        "format_currency()\n",
        "\n"
      ],
      "metadata": {
        "id": "fNB0Vnz-2hQp",
        "colab": {
          "base_uri": "https://localhost:8080/"
        },
        "outputId": "a9d9bf21-2d8b-43f7-e5aa-4676142b3e2f"
      },
      "execution_count": null,
      "outputs": [
        {
          "output_type": "stream",
          "name": "stdout",
          "text": [
            "Input The Amount In Pounds4\n",
            "4.0\n"
          ]
        }
      ]
    },
    {
      "cell_type": "markdown",
      "metadata": {
        "id": "nBZqJ5d7XXdc"
      },
      "source": [
        "---\n",
        "### Exercise 5 - area of a circle\n",
        "\n",
        "Write a function called **calculate_area()** which will:\n",
        "\n",
        "*  ask the user to enter the **radius** of a circle (which could be a float or an int)  \n",
        "*  create a variable called **pi** and assign it the value 3.14159\n",
        "*  calculate the **area** of the circle (pi * radius * radius)  \n",
        "*  print the area of the circle to 2 decimal places.  \n",
        "\n",
        "Test input:  \n",
        "5\n",
        "\n",
        "Expected output:  \n",
        "78.54"
      ]
    },
    {
      "cell_type": "code",
      "metadata": {
        "id": "GbkuKY-_dwn0",
        "colab": {
          "base_uri": "https://localhost:8080/"
        },
        "outputId": "1f044c9a-955e-44e4-b6e2-0b6ee8931e58"
      },
      "source": [
        "def calculate_area():\n",
        "  radius = float(input(\"Radius of your Circle\"))\n",
        "  pi = 3.14159\n",
        "  area = pi*radius*radius\n",
        "  print(\"area of a circle\", area)\n",
        "  \n",
        "calculate_area()\n",
        "\n"
      ],
      "execution_count": null,
      "outputs": [
        {
          "output_type": "stream",
          "name": "stdout",
          "text": [
            "Radius of your Circle5\n",
            "area of a circle 78.53975\n"
          ]
        }
      ]
    },
    {
      "cell_type": "markdown",
      "metadata": {
        "id": "Vc435xArCR41"
      },
      "source": [
        "---\n",
        "### Exercise 6 - variables of different types\n",
        "*  create a variable called **name** and assign it the value \"Billy\"  \n",
        "*  create a variable called **age** and assign it the value 18  \n",
        "*  print a message \"Hello `name` you are `age` years old\" \n",
        "\n",
        "Test input:  \n",
        "Billy  \n",
        "18  \n",
        "\n",
        "Expected output:  \n",
        "Hello Billy you are 18 years old"
      ]
    },
    {
      "cell_type": "code",
      "metadata": {
        "id": "EmO5dR9nCYpE",
        "colab": {
          "base_uri": "https://localhost:8080/"
        },
        "outputId": "acfe625c-09ce-4279-8277-e97eefe16da4"
      },
      "source": [
        "def print_info():\n",
        "   # add your code below here\n",
        "  name = \"Billy\"\n",
        "  age = 18  \n",
        "  print(\"Hello\", name, \"you are\", age, \"years old\")\n",
        "\n",
        "print_info()\n",
        "\n"
      ],
      "execution_count": null,
      "outputs": [
        {
          "output_type": "stream",
          "name": "stdout",
          "text": [
            "Hello Billy you are 18 years old\n"
          ]
        }
      ]
    },
    {
      "cell_type": "markdown",
      "metadata": {
        "id": "xtPVg1k5CklX"
      },
      "source": [
        "---\n",
        "### Exercise 7 - float variables (and writing your own function)\n",
        "Write a function called **print_price()** which will:  \n",
        "\n",
        "*  create a variable called **product** and assign the value \"Chocolate Bar\"  \n",
        "*  create a variable called **cost** and assign the value 1.39  \n",
        "*  print the message `product`, \"costs\", \"£\", `cost`  \n",
        "\n",
        "Expected output:  \n",
        "Chocolate Bar costs £ 1.39"
      ]
    },
    {
      "cell_type": "code",
      "metadata": {
        "id": "uUqY-_PbCsfN",
        "colab": {
          "base_uri": "https://localhost:8080/"
        },
        "outputId": "297a80bf-ff16-4067-c5bd-70529d343e4a"
      },
      "source": [
        "def print_price():\n",
        "  product = \"Chocolate Bar\"\n",
        "  cost = 1.39\n",
        "  print(product, \"costs\", \"£\", cost)\n",
        "print_price()\n"
      ],
      "execution_count": null,
      "outputs": [
        {
          "output_type": "stream",
          "name": "stdout",
          "text": [
            "Chocolate Bar costs £ 1.39\n"
          ]
        }
      ]
    },
    {
      "cell_type": "markdown",
      "metadata": {
        "id": "HXK-Dn_eCtDN"
      },
      "source": [
        "---\n",
        "### Exercise 8 - concatenating strings\n",
        "Write a function called **print_full_name()** which will:  \n",
        "\n",
        "*  create variable called **name** and assign it the value \"Monty\"  \n",
        "*  create a variable called **surname** and assign it the value \"Python\"  \n",
        "*  create a variable called **full_name** and assign it the value `name` + \" \" + `surname`  \n",
        "*  print the `full_name`  \n",
        "\n",
        "Expected output:  \n",
        "Monty Python"
      ]
    },
    {
      "cell_type": "code",
      "metadata": {
        "id": "YJeP2teXC0cV",
        "colab": {
          "base_uri": "https://localhost:8080/"
        },
        "outputId": "2c2fa091-3e8f-4894-fbef-78a1af316e65"
      },
      "source": [
        "def print_full_name():\n",
        "  name = \"Monty\"\n",
        "  surname = \"Python\"\n",
        "  full_name = name + \" \" + surname \n",
        "  print(full_name)\n",
        "  \n",
        "print_full_name()"
      ],
      "execution_count": null,
      "outputs": [
        {
          "output_type": "stream",
          "name": "stdout",
          "text": [
            "Monty Python\n"
          ]
        }
      ]
    },
    {
      "cell_type": "markdown",
      "source": [
        "# Operators\n",
        "\n"
      ],
      "metadata": {
        "id": "KyJ83QItw3ry"
      }
    },
    {
      "cell_type": "code",
      "source": [
        ""
      ],
      "metadata": {
        "id": "tw8nYggLZYfD"
      },
      "execution_count": null,
      "outputs": []
    },
    {
      "cell_type": "markdown",
      "metadata": {
        "id": "Nk7bg_hfLzu7"
      },
      "source": [
        "In Python, we can use the following arithmetic operators:  \n",
        "\n",
        "![Python operators](https://drive.google.com/uc?id=1EARs0OefvMwAULyNGGs01xYLW3lIAO9B)\n",
        "\n",
        "\n",
        "\n",
        "\n",
        "\n",
        "\n",
        "\n",
        "\n",
        "\n"
      ]
    },
    {
      "cell_type": "markdown",
      "metadata": {
        "id": "fvxtRRcfOnGr"
      },
      "source": [
        "---\n",
        "### Exercise 9 - BIDMAS\n",
        "Write a function called **calculate_average()** which will:  \n",
        "\n",
        "*  ask the user for 3 seperate numbers, **num1**, **num2**, **num3**  \n",
        "*  calculate the **average** of the three numbers\n",
        "*  print the `average`, rounded to 2 decimal places  \n",
        "\n",
        "*Hint 1:  to round a number, use round(), e.g. round(`average`)  *\n",
        "*Hint 2: remember the BIDMAS order of operators and use brackets to change the order if necessary.*  \n",
        "\n",
        "Test Input:  \n",
        "3  \n",
        "5  \n",
        "9  \n",
        "\n",
        "Expected output:  \n",
        "5.67"
      ]
    },
    {
      "cell_type": "code",
      "metadata": {
        "id": "jYtLq8olPRZM",
        "colab": {
          "base_uri": "https://localhost:8080/"
        },
        "outputId": "ca236a09-55a5-46f9-9873-918562990d3d"
      },
      "source": [
        "def calculate_average():\n",
        "  num1 = float(input(\"insert your first number\"))\n",
        "  num2 = float(input(\"insert your second number\"))\n",
        "  num3 = float(input(\"insert your third number\"))\n",
        "  average = (num1 + num2 + num3) / 3\n",
        "  round(average)\n",
        "  print(average)\n",
        "\n",
        "calculate_average()\n"
      ],
      "execution_count": null,
      "outputs": [
        {
          "output_type": "stream",
          "name": "stdout",
          "text": [
            "insert your first number3\n",
            "insert your second number5\n",
            "insert your third number9\n",
            "5.666666666666667\n"
          ]
        }
      ]
    },
    {
      "cell_type": "markdown",
      "metadata": {
        "id": "r9w0fiW-PR2D"
      },
      "source": [
        "---\n",
        "### Exercise 10 - BIDMAS\n",
        "\n",
        "Write a function called **calculate_avg_height()** which will:  \n",
        "\n",
        "*  ask the user to input their **height**  \n",
        "*  convert `height` to **height_centimeters** (multiply by 100)  \n",
        "*  print `height_centimeters`  \n",
        "\n",
        "*Remember, height in metres is usually a decimal, so data type matters*  \n",
        "\n",
        "Test Input:  \n",
        "1.67  \n",
        "\n",
        "Expected output:  \n",
        "167\n"
      ]
    },
    {
      "cell_type": "code",
      "metadata": {
        "id": "DXqxS75kQWOm",
        "colab": {
          "base_uri": "https://localhost:8080/"
        },
        "outputId": "1f3d976f-9e96-48bf-ad96-19efa89aaa8c"
      },
      "source": [
        "def calculate_avg_height():\n",
        "  height = float(input(\"Insert your Height in feet\"))\n",
        "  height_centimeters = height * 100\n",
        "  print(height_centimeters)\n",
        "\n",
        "calculate_avg_height()\n"
      ],
      "execution_count": null,
      "outputs": [
        {
          "output_type": "stream",
          "name": "stdout",
          "text": [
            "Insert your Height in feet1.67\n",
            "167.0\n"
          ]
        }
      ]
    },
    {
      "cell_type": "markdown",
      "metadata": {
        "id": "jsV3uF5aRZ56"
      },
      "source": [
        "---\n",
        "### Exercise 11 - calculating volume\n",
        "\n",
        "Bill is moving house. He needs to know how much space his cardboard packing boxes have.   \n",
        "\n",
        "Write a function called **calculate_volume()** which will:   \n",
        "\n",
        "*  assign the value 3.2, 5.6 and 7.8 to the variables **base**, **width** and **height** respectively  \n",
        "*  calculate the **box_volume** rounded to 1 decimal place  \n",
        "*  print the `box_volume`\n",
        "\n",
        "*Hint: volume = base x width x height*\n",
        "\n",
        "Expected output:  \n",
        "139.8\n"
      ]
    },
    {
      "cell_type": "code",
      "metadata": {
        "id": "WVLFFYayRwcN",
        "colab": {
          "base_uri": "https://localhost:8080/"
        },
        "outputId": "d395e16f-cf74-4922-e702-faf92726ecc6"
      },
      "source": [
        "def calculate_volume():\n",
        "  base = 3.2\n",
        "  width = 5.6\n",
        "  height = 7.8\n",
        "  box_volume = base * width * height\n",
        "  box_volume = round(box_volume, 1)\n",
        "  print(box_volume)\n",
        "\n",
        "calculate_volume()\n"
      ],
      "execution_count": null,
      "outputs": [
        {
          "output_type": "stream",
          "name": "stdout",
          "text": [
            "139.8\n"
          ]
        }
      ]
    },
    {
      "cell_type": "markdown",
      "metadata": {
        "id": "Apy8QqKIB3_c"
      },
      "source": [
        "---\n",
        "***Floor Division***  \n",
        "*So far, we have been using standard arithmetic operators. If we would like to divide without remainders (eg. no decimals) we can use floor division using the // operator.  This will always round down*.  \n",
        "\n",
        "*For example*:  \n",
        "*42/8 = 5.75*  \n",
        "*BUT*  \n",
        "4*2//8 = 5*"
      ]
    },
    {
      "cell_type": "markdown",
      "metadata": {
        "id": "eGo_VENXRwo0"
      },
      "source": [
        "---\n",
        "### Exercise 12 - calculating with volumes\n",
        "\n",
        "Bill needs to work out how many boxes he will need.  \n",
        "\n",
        "Building on what you did in the last exercise, write a function called **calculate_boxes(base, width, height)** which will:  \n",
        "\n",
        "*  calculate the volume of a box, using the **base**, **width** and **height** supplied in the brackets  \n",
        "*  ask Bill for the **total_volume** of his stuff  \n",
        "*  calculate the total **number_of_boxes** he will need, and print the `number_of_boxes`  \n",
        "\n",
        "*Hint: the `total` will not be a decimal number - you should use floor division and add one to the answer (for the box that will have the leftovers).*\n",
        "\n",
        "Test Input:  \n",
        "1500  \n",
        "\n",
        "Expected output:  \n",
        "11  \n"
      ]
    },
    {
      "cell_type": "code",
      "metadata": {
        "id": "0X6TKFubSIpT",
        "colab": {
          "base_uri": "https://localhost:8080/"
        },
        "outputId": "9daabdf8-e6ef-43b5-9731-38fe0fa60533"
      },
      "source": [
        "def calculate_boxes():\n",
        "  total_volume = float(input(\"Insert Volume of Your Stuff\"))\n",
        "  base = 3.2\n",
        "  width = 5.6\n",
        "  height = 7.8\n",
        "  box_volume = base * width * height\n",
        "  total = total_volume // box_volume\n",
        "  print(total)\n",
        "  \n",
        "calculate_boxes()"
      ],
      "execution_count": null,
      "outputs": [
        {
          "output_type": "stream",
          "name": "stdout",
          "text": [
            "Insert Volume of Your Stuff1500\n",
            "10.0\n"
          ]
        }
      ]
    }
  ]
}